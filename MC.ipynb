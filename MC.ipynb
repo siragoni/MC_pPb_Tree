{
 "cells": [
  {
   "cell_type": "markdown",
   "metadata": {},
   "source": [
    "# Analysis of the MC\n",
    "Here we use Guillermo's code to obtain the required numbers for the MC."
   ]
  },
  {
   "cell_type": "code",
   "execution_count": 2,
   "metadata": {},
   "outputs": [],
   "source": [
    "import os\n",
    "import sys\n",
    "import warnings\n",
    "import matplotlib.pyplot as plt\n",
    "import pickle\n",
    "import uproot\n",
    "import numpy as np\n",
    "import pandas as pd\n",
    "# import xgboost as xgb\n",
    "import sklearn\n",
    "\n",
    "sys.path.insert(0, '../')\n",
    "# import analysis_utils as au\n",
    "\n",
    "# avoid pandas warning\n",
    "warnings.simplefilter(action='ignore', category=FutureWarning)"
   ]
  },
  {
   "cell_type": "markdown",
   "metadata": {},
   "source": [
    "## A few infos on the libraries\n",
    "\n",
    "### uproot\n",
    "\n",
    "uproot is a Python package that provides tools for reading/writing ROOT files using Python and Numpy (does not depend on ROOT) and is primarly intended to stream data into machine learning libraries in Python.\n",
    "\n",
    "We use uproot for reading and converting ROOT Trees into ***pandas*** **DataFrame**.\n",
    "For more details: https://github.com/scikit-hep/uproot."
   ]
  },
  {
   "cell_type": "markdown",
   "metadata": {},
   "source": [
    "Now we load our data using uproot: signal and background for the training of the models and the unknown data on which we would like to have the model predictions"
   ]
  },
  {
   "cell_type": "code",
   "execution_count": 3,
   "metadata": {},
   "outputs": [],
   "source": [
    "# IncohMC_std_recon = uproot.open('AnalysisResultsIncoh16s_std.root')['MyTask/fOutputTree']\n",
    "# IncohMC_std_gener = uproot.open('AnalysisResultsIncoh16s_std.root')['MyTask/fOutputTreeMC']\n",
    "# IncohMC_std_recon = uproot.open('AnalysisResultsIncoh16s_nolpt.root')['MyTask/fOutputTree']\n",
    "# IncohMC_std_gener = uproot.open('AnalysisResultsIncoh16s_nolpt.root')['MyTask/fOutputTreeMC']\n",
    "# IncohMC_std_recon = uproot.open('AnalysisResultsIncoh16s_nopdca.root')['MyTask/fOutputTree']\n",
    "# IncohMC_std_gener = uproot.open('AnalysisResultsIncoh16s_nopdca.root')['MyTask/fOutputTreeMC']\n",
    "# IncohMC_std_recon = uproot.open('AnalysisResultsGammaLow16s.root')['MyTask/fOutputTree']\n",
    "# IncohMC_std_gener = uproot.open('AnalysisResultsGammaLow16s.root')['MyTask/fOutputTreeMC']\n",
    "# IncohMC_std_recon = uproot.open('AnalysisResultsCoh16s.root')['MyTask/fOutputTree']\n",
    "# IncohMC_std_gener = uproot.open('AnalysisResultsCoh16s.root')['MyTask/fOutputTreeMC']\n",
    "\n",
    "\n",
    "\n",
    "# LHC16r\n",
    "IncohMC_std_recon = uproot.open('AnalysisResultsIncoh16r_std.root')['MyTask/fOutputTree']\n",
    "IncohMC_std_gener = uproot.open('AnalysisResultsIncoh16r_std.root')['MyTask/fOutputTreeMC']\n",
    "# IncohMC_std_recon = uproot.open('AnalysisResultsIncoh16r_nolpt.root')['MyTask/fOutputTree']\n",
    "# IncohMC_std_gener = uproot.open('AnalysisResultsIncoh16r_nolpt.root')['MyTask/fOutputTreeMC']\n",
    "# IncohMC_std_recon = uproot.open('AnalysisResultsIncoh16r_nopdca.root')['MyTask/fOutputTree']\n",
    "# IncohMC_std_gener = uproot.open('AnalysisResultsIncoh16r_nopdca.root')['MyTask/fOutputTreeMC']\n",
    "# IncohMC_std_recon = uproot.open('AnalysisResultsGammaLow16r.root')['MyTask/fOutputTree']\n",
    "# IncohMC_std_gener = uproot.open('AnalysisResultsGammaLow16r.root')['MyTask/fOutputTreeMC']\n",
    "# IncohMC_std_recon = uproot.open('AnalysisResultsCoh16r.root')['MyTask/fOutputTree']\n",
    "# IncohMC_std_gener = uproot.open('AnalysisResultsCoh16r.root')['MyTask/fOutputTreeMC']\n"
   ]
  },
  {
   "cell_type": "code",
   "execution_count": 28,
   "metadata": {},
   "outputs": [
    {
     "data": {
      "text/plain": [
       "[b'fRunNum',\n",
       " b'fL0inputs',\n",
       " b'fAnaType',\n",
       " b'fGoodPosTrk',\n",
       " b'fGoodNegTrk',\n",
       " b'fTrkTrkPt',\n",
       " b'fTrkTrkPhi',\n",
       " b'fTrkTrkY',\n",
       " b'fTrkTrkM',\n",
       " b'fTrkPt1',\n",
       " b'fTrkPt2',\n",
       " b'fTrkEta1',\n",
       " b'fTrkEta2',\n",
       " b'fTrkPhi1',\n",
       " b'fTrkPhi2',\n",
       " b'fTrkQ1',\n",
       " b'fTrkQ2',\n",
       " b'fTrkRabs1',\n",
       " b'fTrkRabs2']"
      ]
     },
     "execution_count": 28,
     "metadata": {},
     "output_type": "execute_result"
    }
   ],
   "source": [
    "IncohMC_std_recon.keys()\n",
    "# IncohMC_std_gener.keys()\n",
    "# background_treeMine.keys()\n",
    "# data_treeMine.keys()"
   ]
  },
  {
   "cell_type": "code",
   "execution_count": 5,
   "metadata": {},
   "outputs": [],
   "source": [
    "df_recon = IncohMC_std_recon.pandas.df()\n",
    "df_gener = IncohMC_std_gener.pandas.df()"
   ]
  },
  {
   "cell_type": "code",
   "execution_count": 6,
   "metadata": {},
   "outputs": [
    {
     "data": {
      "text/plain": [
       "1819814"
      ]
     },
     "execution_count": 6,
     "metadata": {},
     "output_type": "execute_result"
    }
   ],
   "source": [
    "len(df_recon.index)"
   ]
  },
  {
   "cell_type": "code",
   "execution_count": 7,
   "metadata": {},
   "outputs": [
    {
     "data": {
      "text/plain": [
       "10483212"
      ]
     },
     "execution_count": 7,
     "metadata": {},
     "output_type": "execute_result"
    }
   ],
   "source": [
    "generatedevents = len(df_gener.index)\n",
    "generatedevents"
   ]
  },
  {
   "cell_type": "code",
   "execution_count": 8,
   "metadata": {},
   "outputs": [
    {
     "data": {
      "text/plain": [
       "9321584"
      ]
     },
     "execution_count": 8,
     "metadata": {},
     "output_type": "execute_result"
    }
   ],
   "source": [
    "# df_Rapidity_gen = df_gener.query('fMCTrkTrkM > 2.8 & fMCTrkTrkM < 3.3 & fMCTrkTrkY < -2.5 & fMCTrkTrkY > -4.0 ')\n",
    "df_Rapidity_gen = df_gener.query('fMCTrkTrkY < -2.5 & fMCTrkTrkY > -4.0 ')\n",
    "generatedevents_Ycut = len(df_Rapidity_gen.index)\n",
    "generatedevents_Ycut"
   ]
  },
  {
   "cell_type": "code",
   "execution_count": 9,
   "metadata": {},
   "outputs": [
    {
     "data": {
      "image/png": "[encoded data removed]",
      "text/plain": [
       "<Figure size 432x288 with 1 Axes>"
      ]
     },
     "metadata": {
      "needs_background": "light"
     },
     "output_type": "display_data"
    }
   ],
   "source": [
    "InvMass_recon = df_recon['fTrkTrkM'].plot.hist(bins=100, alpha=0.6)\n",
    "# minv_bkgMine = df_backgroundMine['fInvariantMassDimuon'].plot.hist(bins=100, alpha=0.6)\n"
   ]
  },
  {
   "cell_type": "code",
   "execution_count": 10,
   "metadata": {},
   "outputs": [
    {
     "data": {
      "image/png": "[encoded data removed]",
      "text/plain": [
       "<Figure size 432x288 with 1 Axes>"
      ]
     },
     "metadata": {
      "needs_background": "light"
     },
     "output_type": "display_data"
    }
   ],
   "source": [
    "InvMass_gen = df_gener['fMCTrkTrkM'].plot.hist(bins=100, alpha=0.6)\n"
   ]
  },
  {
   "cell_type": "markdown",
   "metadata": {},
   "source": [
    "### Pandas \n",
    "\n",
    "Pandas is a library that provides data structures and analysis tools for Pyhton. The two primary data structures of pandas are **Series** (1-dimensional) and **DataFrame** (2-dimensional) and we will work with them.\n",
    "\n",
    "- **Series** are 1-dimensional ndarray with axis labels.\n",
    "- **DataFrame** are 2-dimensional tabular data structure with labeled axes (rows and columns).\n",
    "\n",
    "For more details: https://pandas.pydata.org/pandas-docs/stable/\n",
    "\n"
   ]
  },
  {
   "cell_type": "markdown",
   "metadata": {},
   "source": [
    "\n",
    "\n",
    "One of the most interesting tool of DataFrame is the *query()* method (https://pandas.pydata.org/pandas-docs/stable/reference/api/pandas.DataFrame.query.html). With this method we can query the DataFrame getting elements which **satisfy a boolean expression**."
   ]
  },
  {
   "cell_type": "markdown",
   "metadata": {},
   "source": [
    "A \"trick\" to plot more than one distribution is to create a new dataframe with the data to plot in different columns"
   ]
  },
  {
   "cell_type": "code",
   "execution_count": 11,
   "metadata": {},
   "outputs": [],
   "source": [
    "#dataframe with invariant-mass of background and signal\n",
    "# df_new = pd.concat([df_background['InvMass'], df_signal['InvMass']], axis=1)\n",
    "# df_new.head()"
   ]
  },
  {
   "cell_type": "code",
   "execution_count": 12,
   "metadata": {
    "scrolled": true
   },
   "outputs": [],
   "source": [
    "# minv_compared = df_new.plot.hist(bins=100, alpha=0.6)"
   ]
  },
  {
   "cell_type": "markdown",
   "metadata": {},
   "source": [
    "## Data preparation\n",
    "We need to tell at the model what is signal and what is background.\n",
    "\n",
    "So we add a 'y' column and label signal and background with **y=1** for signal and **y=0** for background. Then we stack togheter signal and background. This will be the reference for the ML model. "
   ]
  },
  {
   "cell_type": "code",
   "execution_count": 13,
   "metadata": {},
   "outputs": [
    {
     "data": {
      "image/png": "[encoded data removed]",
      "text/plain": [
       "<Figure size 432x288 with 1 Axes>"
      ]
     },
     "metadata": {
      "needs_background": "light"
     },
     "output_type": "display_data"
    }
   ],
   "source": [
    "plot_fL0inputs = df_recon['fL0inputs'].plot.hist(bins=100, alpha=0.6)\n"
   ]
  },
  {
   "cell_type": "code",
   "execution_count": 14,
   "metadata": {},
   "outputs": [],
   "source": [
    "def return0MSL(x):\n",
    "    return ((x & (1<<5))>>5)"
   ]
  },
  {
   "cell_type": "code",
   "execution_count": 15,
   "metadata": {},
   "outputs": [],
   "source": [
    "def return0MUL(x):\n",
    "    return ((x & (1<<13))>>13)"
   ]
  },
  {
   "cell_type": "code",
   "execution_count": 16,
   "metadata": {},
   "outputs": [
    {
     "data": {
      "image/png": "[encoded data removed]",
      "text/plain": [
       "<Figure size 432x288 with 1 Axes>"
      ]
     },
     "metadata": {
      "needs_background": "light"
     },
     "output_type": "display_data"
    }
   ],
   "source": [
    "df_recon['f0MSL'] = df_recon.fL0inputs.apply(return0MSL)\n",
    "plot_0MSL = df_recon['f0MSL'].plot.hist(bins=100, alpha=0.6)\n"
   ]
  },
  {
   "cell_type": "code",
   "execution_count": 17,
   "metadata": {
    "scrolled": true
   },
   "outputs": [
    {
     "data": {
      "image/png": "[encoded data removed]",
      "text/plain": [
       "<Figure size 432x288 with 1 Axes>"
      ]
     },
     "metadata": {
      "needs_background": "light"
     },
     "output_type": "display_data"
    }
   ],
   "source": [
    "df_recon['f0MUL'] = df_recon.fL0inputs.apply(return0MUL)\n",
    "plot_0MUL = df_recon['f0MUL'].plot.hist(bins=100, alpha=0.6)\n"
   ]
  },
  {
   "cell_type": "code",
   "execution_count": 18,
   "metadata": {},
   "outputs": [
    {
     "data": {
      "text/plain": [
       "1819814"
      ]
     },
     "execution_count": 18,
     "metadata": {},
     "output_type": "execute_result"
    }
   ],
   "source": [
    "len(df_recon.index)"
   ]
  },
  {
   "cell_type": "code",
   "execution_count": 19,
   "metadata": {},
   "outputs": [
    {
     "data": {
      "text/plain": [
       "1819808"
      ]
     },
     "execution_count": 19,
     "metadata": {},
     "output_type": "execute_result"
    },
    {
     "data": {
      "image/png": "[encoded data removed]",
      "text/plain": [
       "<Figure size 432x288 with 1 Axes>"
      ]
     },
     "metadata": {
      "needs_background": "light"
     },
     "output_type": "display_data"
    }
   ],
   "source": [
    "df_InvMassCutPlusRapidity_for0MUL = df_recon.query('fTrkTrkY < -2.5 & fTrkTrkY > -4.0 ')\n",
    "plot_0MUL_rightrapidity = df_InvMassCutPlusRapidity_for0MUL['f0MUL'].plot.hist(bins=100, alpha=0.6)\n",
    "len(df_InvMassCutPlusRapidity_for0MUL.index)"
   ]
  },
  {
   "cell_type": "code",
   "execution_count": 20,
   "metadata": {},
   "outputs": [
    {
     "data": {
      "text/plain": [
       "1753730"
      ]
     },
     "execution_count": 20,
     "metadata": {},
     "output_type": "execute_result"
    },
    {
     "data": {
      "image/png": "[encoded data removed]",
      "text/plain": [
       "<Figure size 432x288 with 1 Axes>"
      ]
     },
     "metadata": {
      "needs_background": "light"
     },
     "output_type": "display_data"
    }
   ],
   "source": [
    "df_InvMassCutPlusRapidity = df_recon.query('fTrkTrkM > 2.8 & fTrkTrkM < 3.3 & fTrkTrkY < -2.5 & fTrkTrkY > -4.0 ')\n",
    "df_InvMassCutPlusTriggerConditionPlusRapidity = df_InvMassCutPlusRapidity.query('f0MUL > 0.5')\n",
    "df_InvMassCutPlusTriggerConditionPlusRapidity['fTrkTrkM'].plot.hist(bins=100, alpha=0.6)\n",
    "reconstructedevents = len(df_InvMassCutPlusTriggerConditionPlusRapidity.index)\n",
    "reconstructedevents\n",
    "# len(df_InvMassCutPlusRapidity.index)"
   ]
  },
  {
   "cell_type": "code",
   "execution_count": 21,
   "metadata": {},
   "outputs": [
    {
     "data": {
      "text/plain": [
       "1753730"
      ]
     },
     "execution_count": 21,
     "metadata": {},
     "output_type": "execute_result"
    },
    {
     "data": {
      "image/png": "[encoded data removed]",
      "text/plain": [
       "<Figure size 432x288 with 1 Axes>"
      ]
     },
     "metadata": {
      "needs_background": "light"
     },
     "output_type": "display_data"
    }
   ],
   "source": [
    "InvMass_recAfterCuts = df_InvMassCutPlusTriggerConditionPlusRapidity['fTrkTrkM'].plot.hist(bins=100, alpha=0.6)\n",
    "len(df_InvMassCutPlusTriggerConditionPlusRapidity.index)"
   ]
  },
  {
   "cell_type": "code",
   "execution_count": 22,
   "metadata": {},
   "outputs": [
    {
     "data": {
      "text/plain": [
       "0.1881364798085819"
      ]
     },
     "execution_count": 22,
     "metadata": {},
     "output_type": "execute_result"
    }
   ],
   "source": [
    "AxE = reconstructedevents/generatedevents_Ycut\n",
    "AxE"
   ]
  },
  {
   "cell_type": "markdown",
   "metadata": {},
   "source": [
    "### Template for Pt distr"
   ]
  },
  {
   "cell_type": "code",
   "execution_count": 23,
   "metadata": {},
   "outputs": [],
   "source": [
    "bins = np.arange(0,5, 0.10)"
   ]
  },
  {
   "cell_type": "code",
   "execution_count": 24,
   "metadata": {},
   "outputs": [
    {
     "data": {
      "text/plain": [
       "<matplotlib.axes._subplots.AxesSubplot at 0xa71dd2210>"
      ]
     },
     "execution_count": 24,
     "metadata": {},
     "output_type": "execute_result"
    },
    {
     "data": {
      "image/png": "[encoded data removed]",
      "text/plain": [
       "<Figure size 432x288 with 1 Axes>"
      ]
     },
     "metadata": {
      "needs_background": "light"
     },
     "output_type": "display_data"
    }
   ],
   "source": [
    "df_InvMassCutPlusTriggerConditionPlusRapidity['fTrkTrkPt'].hist(bins=bins)"
   ]
  },
  {
   "cell_type": "code",
   "execution_count": 25,
   "metadata": {},
   "outputs": [],
   "source": [
    "PtDistr = df_InvMassCutPlusTriggerConditionPlusRapidity['fTrkTrkPt'].to_numpy()"
   ]
  },
  {
   "cell_type": "code",
   "execution_count": 26,
   "metadata": {
    "scrolled": true
   },
   "outputs": [
    {
     "data": {
      "image/png": "[encoded data removed]",
      "text/plain": [
       "<Figure size 432x288 with 1 Axes>"
      ]
     },
     "metadata": {
      "needs_background": "light"
     },
     "output_type": "display_data"
    }
   ],
   "source": [
    "counts, edges, plot = plt.hist(PtDistr, bins=bins)"
   ]
  },
  {
   "cell_type": "code",
   "execution_count": 27,
   "metadata": {
    "scrolled": true
   },
   "outputs": [
    {
     "data": {
      "text/plain": [
       "array([6.22510e+04, 1.73363e+05, 2.51501e+05, 2.83842e+05, 2.72172e+05,\n",
       "       2.32467e+05, 1.78452e+05, 1.25037e+05, 7.97790e+04, 4.68120e+04,\n",
       "       2.51750e+04, 1.28210e+04, 5.92900e+03, 2.51000e+03, 9.84000e+02,\n",
       "       4.29000e+02, 1.28000e+02, 4.70000e+01, 1.50000e+01, 6.00000e+00,\n",
       "       1.00000e+00, 3.00000e+00, 1.00000e+00, 1.00000e+00, 0.00000e+00,\n",
       "       0.00000e+00, 0.00000e+00, 1.00000e+00, 0.00000e+00, 1.00000e+00,\n",
       "       2.00000e+00, 0.00000e+00, 0.00000e+00, 0.00000e+00, 0.00000e+00,\n",
       "       0.00000e+00, 0.00000e+00, 0.00000e+00, 0.00000e+00, 0.00000e+00,\n",
       "       0.00000e+00, 0.00000e+00, 0.00000e+00, 0.00000e+00, 0.00000e+00,\n",
       "       0.00000e+00, 0.00000e+00, 0.00000e+00, 0.00000e+00])"
      ]
     },
     "execution_count": 27,
     "metadata": {},
     "output_type": "execute_result"
    }
   ],
   "source": [
    "counts"
   ]
  },
  {
   "cell_type": "code",
   "execution_count": null,
   "metadata": {},
   "outputs": [],
   "source": []
  },
  {
   "cell_type": "code",
   "execution_count": null,
   "metadata": {},
   "outputs": [],
   "source": []
  },
  {
   "cell_type": "code",
   "execution_count": null,
   "metadata": {},
   "outputs": [],
   "source": []
  },
  {
   "cell_type": "code",
   "execution_count": null,
   "metadata": {},
   "outputs": [],
   "source": []
  },
  {
   "cell_type": "markdown",
   "metadata": {},
   "source": [
    "Now we can fit the distribution and extract the signal"
   ]
  },
  {
   "cell_type": "code",
   "execution_count": 27,
   "metadata": {},
   "outputs": [],
   "source": [
    "from scipy.optimize import curve_fit\n",
    "from scipy import integrate\n",
    "\n",
    "def fit_invmass(df):\n",
    "    \n",
    "    # histogram of the data\n",
    "    counts, bins = np.histogram(df, bins=40, range=[2.96, 3.05])\n",
    "    \n",
    "    # define functions for fitting    \n",
    "    def gaus_function(x, N, mu, sigma):\n",
    "        return N * np.exp(-(x-mu)**2/(2*sigma**2))\n",
    "    \n",
    "    def pol2_function(x, a, b):\n",
    "        return (a + x*b)\n",
    "    \n",
    "    def fit_function(x, a, b, N, mu, sigma):\n",
    "        return pol2_function(x, a, b) + gaus_function(x, N, mu, sigma)\n",
    "    \n",
    "    # x axis ranges for plots\n",
    "    x_point = 0.5 * (bins[1:] + bins[:-1])\n",
    "    r = np.arange(2.96, 3.05, 0.00001)\n",
    "    r_red = np.arange(2.98, 3.005, 0.0001)\n",
    "    \n",
    "    # fit the invariant mass distribution with fit_function() pol2+gauss\n",
    "    popt, pcov = curve_fit(fit_function, x_point, counts, p0 = [100, -1, 100, 2.99, 0.001])\n",
    "    \n",
    "    # plot data\n",
    "    plt.errorbar(x_point, counts, yerr=np.sqrt(counts), fmt='.', ecolor='k', color='k', elinewidth=1., label='Data')\n",
    "    \n",
    "    # plot pol2 and gauss obtained in the fit separately\n",
    "    plt.plot(r_red, gaus_function(r_red, N=popt[2], mu=popt[3], sigma=popt[4]), label='gaus', color='red')\n",
    "    plt.plot(r, pol2_function(r, a=popt[0], b=popt[1]), label='pol2', color='green')\n",
    "\n",
    "    # plot the global fit\n",
    "    plt.plot(r, fit_function(r, *popt), label='pol2+gauss', color='blue')\n",
    "    \n",
    "    # compute significance of the signal\n",
    "    signal = integrate.quad(gaus_function, 2.98, 3.005, args=(popt[2], popt[3], popt[4]))[0] / 0.00225\n",
    "    background = integrate.quad(pol2_function, 2.98, 3.005, args=(popt[0], popt[1]))[0] / 0.00225\n",
    "    print(f'Signal counts: {signal:.0f}')\n",
    "    print(f'Background counts: {background:.0f}')     \n",
    "    significance = signal / np.sqrt(signal + background)\n",
    "\n",
    "    # Add some axis labels\n",
    "    plt.title(f'significance: {significance:.1f}')\n",
    "    plt.legend()\n",
    "    plt.xlabel('$M_{^{3}He+\\pi}$ $(\\mathrm{GeV/}c^2)$')\n",
    "    plt.ylabel('counts / 2.25 $\\mathrm{MeV/}c^2$')\n",
    "    plt.show()"
   ]
  },
  {
   "cell_type": "code",
   "execution_count": 28,
   "metadata": {},
   "outputs": [
    {
     "ename": "NameError",
     "evalue": "name 'inv_sel_simple' is not defined",
     "output_type": "error",
     "traceback": [
      "\u001b[0;31m---------------------------------------------------------------------------\u001b[0m",
      "\u001b[0;31mNameError\u001b[0m                                 Traceback (most recent call last)",
      "\u001b[0;32m<ipython-input-28-377af8653e42>\u001b[0m in \u001b[0;36m<module>\u001b[0;34m\u001b[0m\n\u001b[0;32m----> 1\u001b[0;31m \u001b[0mfit_invmass\u001b[0m\u001b[0;34m(\u001b[0m\u001b[0minv_sel_simple\u001b[0m\u001b[0;34m)\u001b[0m\u001b[0;34m\u001b[0m\u001b[0;34m\u001b[0m\u001b[0m\n\u001b[0m",
      "\u001b[0;31mNameError\u001b[0m: name 'inv_sel_simple' is not defined"
     ]
    }
   ],
   "source": [
    "fit_invmass(inv_sel_simple)"
   ]
  },
  {
   "cell_type": "markdown",
   "metadata": {},
   "source": [
    "### Optimized model\n",
    "We can optimize the hyper-parameters to have a **more complex model**"
   ]
  },
  {
   "cell_type": "markdown",
   "metadata": {},
   "source": [
    "## Final Excercise\n",
    "\n",
    "Using the query function of pandas perform the \"standard\" selections"
   ]
  },
  {
   "cell_type": "code",
   "execution_count": null,
   "metadata": {},
   "outputs": [],
   "source": [
    "df_lin_sel = df_data.query('V0CosPA > 0.995')\n",
    "inv_mass_lin_sel = df_lin_sel['InvMass']"
   ]
  },
  {
   "cell_type": "code",
   "execution_count": null,
   "metadata": {},
   "outputs": [],
   "source": [
    "fit_invmass(inv_mass_lin_sel)"
   ]
  },
  {
   "cell_type": "code",
   "execution_count": null,
   "metadata": {},
   "outputs": [],
   "source": [
    "import ROOT"
   ]
  },
  {
   "cell_type": "code",
   "execution_count": null,
   "metadata": {},
   "outputs": [],
   "source": []
  },
  {
   "cell_type": "code",
   "execution_count": null,
   "metadata": {},
   "outputs": [],
   "source": []
  }
 ],
 "metadata": {
  "kernelspec": {
   "display_name": "Python 3",
   "language": "python",
   "name": "python3"
  },
  "language_info": {
   "codemirror_mode": {
    "name": "ipython",
    "version": 3
   },
   "file_extension": ".py",
   "mimetype": "text/x-python",
   "name": "python",
   "nbconvert_exporter": "python",
   "pygments_lexer": "ipython3",
   "version": "3.7.4"
  }
 },
 "nbformat": 4,
 "nbformat_minor": 2
}
